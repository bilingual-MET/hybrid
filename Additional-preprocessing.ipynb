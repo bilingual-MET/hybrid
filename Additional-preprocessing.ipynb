{
 "cells": [
  {
   "attachments": {
    "step1.png": {
     "image/png": "[encoded data removed]"
    }
   },
   "cell_type": "markdown",
   "metadata": {},
   "source": [
    "### This Step ensures the input data (the tweet and Māori words from RMT corpus) is pre-processed to the specifications for using Token-level and Tweet-level Hybrid Architechture.\n",
    "\n",
    "![step1.png](attachment:step1.png)"
   ]
  },
  {
   "cell_type": "code",
   "execution_count": 1,
   "metadata": {
    "executionInfo": {
     "elapsed": 276,
     "status": "ok",
     "timestamp": 1654922201540,
     "user": {
      "displayName": "Vithya Yogarajan",
      "userId": "13370453749411393719"
     },
     "user_tz": -720
    },
    "id": "Z1EB7inH-7xl"
   },
   "outputs": [],
   "source": [
    "import pandas as pd\n",
    "import string\n",
    "import re\n",
    "import pickle\n",
    "from emot.emo_unicode import UNICODE_EMOJI\n",
    "from utilities import Convert, remove_punc, remove_emoticons, strip_all_entities, save_hashtags\n",
    "import string\n",
    "\n",
    "### load most common contractions. \n",
    "  \n",
    "# reading the data from the file\n",
    "with open('contraction_dic.txt', 'rb') as handle:\n",
    "    data = handle.read()\n",
    "\n",
    "dic_contractions = pickle.loads(data)"
   ]
  },
  {
   "cell_type": "code",
   "execution_count": 2,
   "metadata": {
    "colab": {
     "base_uri": "https://localhost:8080/",
     "height": 206
    },
    "executionInfo": {
     "elapsed": 921,
     "status": "ok",
     "timestamp": 1654921346692,
     "user": {
      "displayName": "Vithya Yogarajan",
      "userId": "13370453749411393719"
     },
     "user_tz": -720
    },
    "id": "oxlnV3vh_IED",
    "outputId": "40ff7602-826c-406f-ea74-14985a9366a0"
   },
   "outputs": [
    {
     "data": {
      "text/html": [
       "<div>\n",
       "<style scoped>\n",
       "    .dataframe tbody tr th:only-of-type {\n",
       "        vertical-align: middle;\n",
       "    }\n",
       "\n",
       "    .dataframe tbody tr th {\n",
       "        vertical-align: top;\n",
       "    }\n",
       "\n",
       "    .dataframe thead th {\n",
       "        text-align: right;\n",
       "    }\n",
       "</style>\n",
       "<table border=\"1\" class=\"dataframe\">\n",
       "  <thead>\n",
       "    <tr style=\"text-align: right;\">\n",
       "      <th></th>\n",
       "      <th>tweet_id</th>\n",
       "      <th>user_id</th>\n",
       "      <th>modified_text</th>\n",
       "      <th>maori_words_rmt</th>\n",
       "    </tr>\n",
       "  </thead>\n",
       "  <tbody>\n",
       "    <tr>\n",
       "      <th>0</th>\n",
       "      <td>1001</td>\n",
       "      <td>x10</td>\n",
       "      <td>Living by the Moon: Te Maramataka a Te Whānau-...</td>\n",
       "      <td>['te', 'maramataka', 'te', 'wiremu', 'tāwhai',...</td>\n",
       "    </tr>\n",
       "    <tr>\n",
       "      <th>1</th>\n",
       "      <td>1002</td>\n",
       "      <td>x11</td>\n",
       "      <td>Ahakoa he iti, he iti pounamu tonu! Just quiet...</td>\n",
       "      <td>['ahakoa', 'he', 'iti', 'he', 'iti', 'pounamu'...</td>\n",
       "    </tr>\n",
       "    <tr>\n",
       "      <th>2</th>\n",
       "      <td>1003</td>\n",
       "      <td>x12</td>\n",
       "      <td>Mā UFB ka rapu tāne ahau mo ia rā Valentines #...</td>\n",
       "      <td>['mā', 'ka', 'rapu', 'tāne', 'ahau', 'mo', 'ia...</td>\n",
       "    </tr>\n",
       "    <tr>\n",
       "      <th>3</th>\n",
       "      <td>1004</td>\n",
       "      <td>x13</td>\n",
       "      <td>Our beautiful punga @ Aro Valley &lt;link&gt;</td>\n",
       "      <td>['punga', 'aro']</td>\n",
       "    </tr>\n",
       "    <tr>\n",
       "      <th>4</th>\n",
       "      <td>1005</td>\n",
       "      <td>x14</td>\n",
       "      <td>#TeKaea tommorow Maori Television Online speci...</td>\n",
       "      <td>['tekaea', 'maori', 'ikaroarawhiti']</td>\n",
       "    </tr>\n",
       "  </tbody>\n",
       "</table>\n",
       "</div>"
      ],
      "text/plain": [
       "   tweet_id user_id                                      modified_text  \\\n",
       "0      1001     x10  Living by the Moon: Te Maramataka a Te Whānau-...   \n",
       "1      1002     x11  Ahakoa he iti, he iti pounamu tonu! Just quiet...   \n",
       "2      1003     x12  Mā UFB ka rapu tāne ahau mo ia rā Valentines #...   \n",
       "3      1004     x13            Our beautiful punga @ Aro Valley <link>   \n",
       "4      1005     x14  #TeKaea tommorow Maori Television Online speci...   \n",
       "\n",
       "                                     maori_words_rmt  \n",
       "0  ['te', 'maramataka', 'te', 'wiremu', 'tāwhai',...  \n",
       "1  ['ahakoa', 'he', 'iti', 'he', 'iti', 'pounamu'...  \n",
       "2  ['mā', 'ka', 'rapu', 'tāne', 'ahau', 'mo', 'ia...  \n",
       "3                                   ['punga', 'aro']  \n",
       "4               ['tekaea', 'maori', 'ikaroarawhiti']  "
      ]
     },
     "execution_count": 2,
     "metadata": {},
     "output_type": "execute_result"
    }
   ],
   "source": [
    "df = pd.read_csv(\"data/sample_tweets.csv\",sep='\\t')\n",
    "df.head()"
   ]
  },
  {
   "cell_type": "code",
   "execution_count": 3,
   "metadata": {
    "executionInfo": {
     "elapsed": 266,
     "status": "ok",
     "timestamp": 1654921537178,
     "user": {
      "displayName": "Vithya Yogarajan",
      "userId": "13370453749411393719"
     },
     "user_tz": -720
    },
    "id": "-E_VJw6DsK9y"
   },
   "outputs": [],
   "source": [
    "## make sure any known multi-lingual users are removed. For this research tweets are removed if the tweet contains other languages except English or Maori.  \n",
    "a = ['xxxx\\'']\n",
    "df = df[~df.user_id.isin(a)]"
   ]
  },
  {
   "cell_type": "code",
   "execution_count": 4,
   "metadata": {
    "executionInfo": {
     "elapsed": 263,
     "status": "ok",
     "timestamp": 1654921596020,
     "user": {
      "displayName": "Vithya Yogarajan",
      "userId": "13370453749411393719"
     },
     "user_tz": -720
    },
    "id": "GarTnJhKy8Nq"
   },
   "outputs": [],
   "source": [
    "## ensure all repeat tweets are removed\n",
    "df = df[~df.modified_text.str.startswith('rt')]\n",
    "df = df[~df.modified_text.str.startswith('RT')]\n"
   ]
  },
  {
   "cell_type": "code",
   "execution_count": 5,
   "metadata": {
    "colab": {
     "base_uri": "https://localhost:8080/",
     "height": 551
    },
    "executionInfo": {
     "elapsed": 544,
     "status": "ok",
     "timestamp": 1654922537041,
     "user": {
      "displayName": "Vithya Yogarajan",
      "userId": "13370453749411393719"
     },
     "user_tz": -720
    },
    "id": "n80NKvNS69Cy",
    "outputId": "22244952-cb83-4073-ae4b-6ebc188b1a71"
   },
   "outputs": [
    {
     "data": {
      "text/html": [
       "<div>\n",
       "<style scoped>\n",
       "    .dataframe tbody tr th:only-of-type {\n",
       "        vertical-align: middle;\n",
       "    }\n",
       "\n",
       "    .dataframe tbody tr th {\n",
       "        vertical-align: top;\n",
       "    }\n",
       "\n",
       "    .dataframe thead th {\n",
       "        text-align: right;\n",
       "    }\n",
       "</style>\n",
       "<table border=\"1\" class=\"dataframe\">\n",
       "  <thead>\n",
       "    <tr style=\"text-align: right;\">\n",
       "      <th></th>\n",
       "      <th>tweet_id</th>\n",
       "      <th>user_id</th>\n",
       "      <th>modified_text</th>\n",
       "      <th>maori_words_rmt</th>\n",
       "      <th>tokens</th>\n",
       "      <th>hashtags</th>\n",
       "    </tr>\n",
       "  </thead>\n",
       "  <tbody>\n",
       "    <tr>\n",
       "      <th>0</th>\n",
       "      <td>1001</td>\n",
       "      <td>x10</td>\n",
       "      <td>Living by the Moon: Te Maramataka a Te Whānau-...</td>\n",
       "      <td>['te', 'maramataka', 'te', 'wiremu', 'tāwhai',...</td>\n",
       "      <td>[living, by, the, moon, te, maramataka, a, te,...</td>\n",
       "      <td>[]</td>\n",
       "    </tr>\n",
       "    <tr>\n",
       "      <th>1</th>\n",
       "      <td>1002</td>\n",
       "      <td>x11</td>\n",
       "      <td>Ahakoa he iti, he iti pounamu tonu! Just quiet...</td>\n",
       "      <td>['ahakoa', 'he', 'iti', 'he', 'iti', 'pounamu'...</td>\n",
       "      <td>[ahakoa, he, iti, he, iti, pounamu, tonu, just...</td>\n",
       "      <td>[#tereo, #kiatika, #kiarere, #kiamāori]</td>\n",
       "    </tr>\n",
       "    <tr>\n",
       "      <th>2</th>\n",
       "      <td>1003</td>\n",
       "      <td>x12</td>\n",
       "      <td>Mā UFB ka rapu tāne ahau mo ia rā Valentines #...</td>\n",
       "      <td>['mā', 'ka', 'rapu', 'tāne', 'ahau', 'mo', 'ia...</td>\n",
       "      <td>[mā, ufb, ka, rapu, tāne, ahau, mo, ia, rā, va...</td>\n",
       "      <td>[#gigatowngis, #tweetaz, #rvbw]</td>\n",
       "    </tr>\n",
       "    <tr>\n",
       "      <th>3</th>\n",
       "      <td>1004</td>\n",
       "      <td>x13</td>\n",
       "      <td>Our beautiful punga @ Aro Valley &lt;link&gt;</td>\n",
       "      <td>['punga', 'aro']</td>\n",
       "      <td>[our, beautiful, punga, aro, valley]</td>\n",
       "      <td>[]</td>\n",
       "    </tr>\n",
       "    <tr>\n",
       "      <th>4</th>\n",
       "      <td>1005</td>\n",
       "      <td>x14</td>\n",
       "      <td>#TeKaea tommorow Maori Television Online speci...</td>\n",
       "      <td>['tekaea', 'maori', 'ikaroarawhiti']</td>\n",
       "      <td>[tommorow, maori, television, online, special,...</td>\n",
       "      <td>[#tekaea, #ikaroarawhiti]</td>\n",
       "    </tr>\n",
       "    <tr>\n",
       "      <th>5</th>\n",
       "      <td>1006</td>\n",
       "      <td>x15</td>\n",
       "      <td>&lt;user&gt; &lt;user&gt; too māori for pākehā bt too pāke...</td>\n",
       "      <td>['māori', 'pākehā', 'pākehā', 'māori']</td>\n",
       "      <td>[too, māori, for, pākehā, bt, too, pākehā, for...</td>\n",
       "      <td>[]</td>\n",
       "    </tr>\n",
       "    <tr>\n",
       "      <th>6</th>\n",
       "      <td>1007</td>\n",
       "      <td>x16</td>\n",
       "      <td>&lt;user&gt; &lt;user&gt; &lt;user&gt; &lt;user&gt; &lt;user&gt; Tomato pure...</td>\n",
       "      <td>['tomato', 'pure']</td>\n",
       "      <td>[tomato, pure, i, mean]</td>\n",
       "      <td>[]</td>\n",
       "    </tr>\n",
       "    <tr>\n",
       "      <th>7</th>\n",
       "      <td>1008</td>\n",
       "      <td>x17</td>\n",
       "      <td>&lt;user&gt; really touching story tonite with Hoani...</td>\n",
       "      <td>['tonite', 'hoani', 'tino', 'pai']</td>\n",
       "      <td>[really, touching, story, tonite, with, hoani,...</td>\n",
       "      <td>[]</td>\n",
       "    </tr>\n",
       "    <tr>\n",
       "      <th>8</th>\n",
       "      <td>1009</td>\n",
       "      <td>x18</td>\n",
       "      <td>Ohhhh he's tooo cute!! Manukura Little White K...</td>\n",
       "      <td>['tooo', 'manukura', 'kiwi']</td>\n",
       "      <td>[ohhhh, he, is, tooo, cute, manukura, little, ...</td>\n",
       "      <td>[]</td>\n",
       "    </tr>\n",
       "    <tr>\n",
       "      <th>9</th>\n",
       "      <td>1010</td>\n",
       "      <td>x19</td>\n",
       "      <td>smashed those sausage rolls at morning tea. #N...</td>\n",
       "      <td>['tea', 'ngakaipai', 'hangiapopo']</td>\n",
       "      <td>[smashed, those, sausage, rolls, at, morning, ...</td>\n",
       "      <td>[#ngakaipai, #hangiapopo]</td>\n",
       "    </tr>\n",
       "    <tr>\n",
       "      <th>10</th>\n",
       "      <td>1011</td>\n",
       "      <td>x20</td>\n",
       "      <td>&lt;user&gt; Cup of weak tea: Me: 'Civic republicani...</td>\n",
       "      <td>['tea', 'me', 'tea']</td>\n",
       "      <td>[cup, of, weak, tea, me, civic, republicanism,...</td>\n",
       "      <td>[]</td>\n",
       "    </tr>\n",
       "    <tr>\n",
       "      <th>11</th>\n",
       "      <td>1012</td>\n",
       "      <td>x21</td>\n",
       "      <td>Please take time to read this weeks upate #kai...</td>\n",
       "      <td>['take', 'upate', 'kaikoura']</td>\n",
       "      <td>[please, take, time, to, read, this, weeks, up...</td>\n",
       "      <td>[#kaikoura, #whalewatch]</td>\n",
       "    </tr>\n",
       "    <tr>\n",
       "      <th>12</th>\n",
       "      <td>1013</td>\n",
       "      <td>x22</td>\n",
       "      <td>Maori students take legislation to Waitangi Tr...</td>\n",
       "      <td>['maori', 'take', 'waitangi']</td>\n",
       "      <td>[maori, students, take, legislation, to, waita...</td>\n",
       "      <td>[]</td>\n",
       "    </tr>\n",
       "    <tr>\n",
       "      <th>13</th>\n",
       "      <td>1014</td>\n",
       "      <td>x23</td>\n",
       "      <td>Anei ngā kupu mo te waiata 'AOTEAROA' Here are...</td>\n",
       "      <td>['anei', 'ngā', 'kupu', 'mo', 'te', 'waiata', ...</td>\n",
       "      <td>[anei, ngā, kupu, mo, te, waiata, aotearoa, he...</td>\n",
       "      <td>[]</td>\n",
       "    </tr>\n",
       "    <tr>\n",
       "      <th>14</th>\n",
       "      <td>1015</td>\n",
       "      <td>x24</td>\n",
       "      <td>Kia ora koutou katoa, on this glorious Friday ...</td>\n",
       "      <td>['kia', 'ora', 'koutou', 'katoa', 'aotearoa', ...</td>\n",
       "      <td>[kia, ora, koutou, katoa, on, this, glorious, ...</td>\n",
       "      <td>[]</td>\n",
       "    </tr>\n",
       "    <tr>\n",
       "      <th>15</th>\n",
       "      <td>1016</td>\n",
       "      <td>x25</td>\n",
       "      <td>&lt;user&gt; oh man, take me, take me!!</td>\n",
       "      <td>['take', 'me', 'take', 'me']</td>\n",
       "      <td>[oh, man, take, me, take, me]</td>\n",
       "      <td>[]</td>\n",
       "    </tr>\n",
       "  </tbody>\n",
       "</table>\n",
       "</div>"
      ],
      "text/plain": [
       "    tweet_id user_id                                      modified_text  \\\n",
       "0       1001     x10  Living by the Moon: Te Maramataka a Te Whānau-...   \n",
       "1       1002     x11  Ahakoa he iti, he iti pounamu tonu! Just quiet...   \n",
       "2       1003     x12  Mā UFB ka rapu tāne ahau mo ia rā Valentines #...   \n",
       "3       1004     x13            Our beautiful punga @ Aro Valley <link>   \n",
       "4       1005     x14  #TeKaea tommorow Maori Television Online speci...   \n",
       "5       1006     x15  <user> <user> too māori for pākehā bt too pāke...   \n",
       "6       1007     x16  <user> <user> <user> <user> <user> Tomato pure...   \n",
       "7       1008     x17  <user> really touching story tonite with Hoani...   \n",
       "8       1009     x18  Ohhhh he's tooo cute!! Manukura Little White K...   \n",
       "9       1010     x19  smashed those sausage rolls at morning tea. #N...   \n",
       "10      1011     x20  <user> Cup of weak tea: Me: 'Civic republicani...   \n",
       "11      1012     x21  Please take time to read this weeks upate #kai...   \n",
       "12      1013     x22  Maori students take legislation to Waitangi Tr...   \n",
       "13      1014     x23  Anei ngā kupu mo te waiata 'AOTEAROA' Here are...   \n",
       "14      1015     x24  Kia ora koutou katoa, on this glorious Friday ...   \n",
       "15      1016     x25                  <user> oh man, take me, take me!!   \n",
       "\n",
       "                                      maori_words_rmt  \\\n",
       "0   ['te', 'maramataka', 'te', 'wiremu', 'tāwhai',...   \n",
       "1   ['ahakoa', 'he', 'iti', 'he', 'iti', 'pounamu'...   \n",
       "2   ['mā', 'ka', 'rapu', 'tāne', 'ahau', 'mo', 'ia...   \n",
       "3                                    ['punga', 'aro']   \n",
       "4                ['tekaea', 'maori', 'ikaroarawhiti']   \n",
       "5              ['māori', 'pākehā', 'pākehā', 'māori']   \n",
       "6                                  ['tomato', 'pure']   \n",
       "7                  ['tonite', 'hoani', 'tino', 'pai']   \n",
       "8                        ['tooo', 'manukura', 'kiwi']   \n",
       "9                  ['tea', 'ngakaipai', 'hangiapopo']   \n",
       "10                               ['tea', 'me', 'tea']   \n",
       "11                      ['take', 'upate', 'kaikoura']   \n",
       "12                      ['maori', 'take', 'waitangi']   \n",
       "13  ['anei', 'ngā', 'kupu', 'mo', 'te', 'waiata', ...   \n",
       "14  ['kia', 'ora', 'koutou', 'katoa', 'aotearoa', ...   \n",
       "15                       ['take', 'me', 'take', 'me']   \n",
       "\n",
       "                                               tokens  \\\n",
       "0   [living, by, the, moon, te, maramataka, a, te,...   \n",
       "1   [ahakoa, he, iti, he, iti, pounamu, tonu, just...   \n",
       "2   [mā, ufb, ka, rapu, tāne, ahau, mo, ia, rā, va...   \n",
       "3                [our, beautiful, punga, aro, valley]   \n",
       "4   [tommorow, maori, television, online, special,...   \n",
       "5   [too, māori, for, pākehā, bt, too, pākehā, for...   \n",
       "6                             [tomato, pure, i, mean]   \n",
       "7   [really, touching, story, tonite, with, hoani,...   \n",
       "8   [ohhhh, he, is, tooo, cute, manukura, little, ...   \n",
       "9   [smashed, those, sausage, rolls, at, morning, ...   \n",
       "10  [cup, of, weak, tea, me, civic, republicanism,...   \n",
       "11  [please, take, time, to, read, this, weeks, up...   \n",
       "12  [maori, students, take, legislation, to, waita...   \n",
       "13  [anei, ngā, kupu, mo, te, waiata, aotearoa, he...   \n",
       "14  [kia, ora, koutou, katoa, on, this, glorious, ...   \n",
       "15                      [oh, man, take, me, take, me]   \n",
       "\n",
       "                                   hashtags  \n",
       "0                                        []  \n",
       "1   [#tereo, #kiatika, #kiarere, #kiamāori]  \n",
       "2           [#gigatowngis, #tweetaz, #rvbw]  \n",
       "3                                        []  \n",
       "4                 [#tekaea, #ikaroarawhiti]  \n",
       "5                                        []  \n",
       "6                                        []  \n",
       "7                                        []  \n",
       "8                                        []  \n",
       "9                 [#ngakaipai, #hangiapopo]  \n",
       "10                                       []  \n",
       "11                 [#kaikoura, #whalewatch]  \n",
       "12                                       []  \n",
       "13                                       []  \n",
       "14                                       []  \n",
       "15                                       []  "
      ]
     },
     "execution_count": 5,
     "metadata": {},
     "output_type": "execute_result"
    }
   ],
   "source": [
    "new_token = []\n",
    "hasht = []\n",
    "\n",
    "for ind, row in df.iterrows():\n",
    "    new_text = row['modified_text'].replace(\"<link>\", \"\")\n",
    "    new_text = new_text.lower()### this is mainly so that it match with RMT corpus\n",
    "    new_text1 = new_text.replace(\"<user>\", \"\")\n",
    "    dd = dic_contractions\n",
    "    res = ' '.join([dd.get(i, i) for i in new_text1.split()])\n",
    "    res1 = strip_all_entities(res)\n",
    "    hashtags = save_hashtags(res)\n",
    "    tweet = remove_emoticons(res1)\n",
    "    tweet = tweet.replace(\"...\",' ')\n",
    "    tweet = tweet.replace(\"<3\",' ')\n",
    "    tweet = tweet.replace(\":-X\",' ')\n",
    "    tweet = tweet.replace(\":-(|)\",' ')\n",
    "    tweet1 = remove_punc(tweet)\n",
    "    twt1 = ' '.join([dd.get(i, i) for i in tweet1.split()])\n",
    "    twt1 = ''.join([c for c in twt1 if not c.isdigit()])\n",
    "    twt1 = twt1.strip().replace('\\d+','').split()\n",
    "    new_token.append(twt1)\n",
    "    hasht.append(hashtags)\n",
    "\n",
    "df['tokens'] = new_token\n",
    "df['hashtags'] = hasht\n",
    "df\n"
   ]
  },
  {
   "cell_type": "code",
   "execution_count": 7,
   "metadata": {},
   "outputs": [],
   "source": [
    "df.to_csv(\"data/data_after_preprocessing.csv\",index=False)"
   ]
  },
  {
   "cell_type": "code",
   "execution_count": null,
   "metadata": {},
   "outputs": [],
   "source": []
  }
 ],
 "metadata": {
  "colab": {
   "collapsed_sections": [],
   "name": "Additional-preprocessing.ipynb",
   "provenance": [
    {
     "file_id": "1-8vlKL2abgMy3SPC860eWiJBHNHxFqEr",
     "timestamp": 1654912272255
    },
    {
     "file_id": "1mXqP_9nxb-15zRP63Lb3VzwrcmPcb4oV",
     "timestamp": 1650161031199
    },
    {
     "file_id": "1Wk9FSKL6x9z9qFzbsvFv3hIz2u0qsbSY",
     "timestamp": 1645760834756
    },
    {
     "file_id": "1K_f2QSVxbtPjqC1dcK059-Ts_hnNuaai",
     "timestamp": 1645389317744
    },
    {
     "file_id": "1rdJjphb9lgQ5Sgdn-JWi7NlPg-IC-bwX",
     "timestamp": 1643613989053
    },
    {
     "file_id": "18bvAbX1uLQ2QhU30qpS-hZyIOpM8mNQl",
     "timestamp": 1643176449279
    },
    {
     "file_id": "1pUZAA0h3gNP8Ig9Y41MerSQhL1ehhYqe",
     "timestamp": 1642713834753
    }
   ]
  },
  "kernelspec": {
   "display_name": "Python 3",
   "language": "python",
   "name": "python3"
  },
  "language_info": {
   "codemirror_mode": {
    "name": "ipython",
    "version": 3
   },
   "file_extension": ".py",
   "mimetype": "text/x-python",
   "name": "python",
   "nbconvert_exporter": "python",
   "pygments_lexer": "ipython3",
   "version": "3.9.7"
  }
 },
 "nbformat": 4,
 "nbformat_minor": 1
}
